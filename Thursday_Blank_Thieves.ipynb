{
 "cells": [
  {
   "cell_type": "markdown",
   "metadata": {},
   "source": [
    "# Object-Oriented-Programming (OOP)"
   ]
  },
  {
   "cell_type": "markdown",
   "metadata": {},
   "source": [
    "## Tasks Today:\n",
    "\n",
    "   \n",
    "\n",
    "1) <b>Creating a Class (Initializing/Declaring)</b> <br>\n",
    "2) <b>Using a Class (Instantiating)</b> <br>\n",
    " &nbsp;&nbsp;&nbsp;&nbsp; a) Creating One Instance <br>\n",
    " &nbsp;&nbsp;&nbsp;&nbsp; b) Creating Multiple Instances <br>\n",
    " &nbsp;&nbsp;&nbsp;&nbsp; c) In-Class Exercise #1 - Create a Class 'Car' and instantiate three different makes of cars <br>\n",
    "3) <b>The \\__init\\__() Method</b> <br>\n",
    " &nbsp;&nbsp;&nbsp;&nbsp; a) The 'self' Attribute <br>\n",
    "4) <b>Class Attributes</b> <br>\n",
    " &nbsp;&nbsp;&nbsp;&nbsp; a) Initializing Attributes <br>\n",
    " &nbsp;&nbsp;&nbsp;&nbsp; b) Setting an Attribute Outside of the \\__init\\__() Method <br>\n",
    " &nbsp;&nbsp;&nbsp;&nbsp; c) Setting Defaults for Attributes <br>\n",
    " &nbsp;&nbsp;&nbsp;&nbsp; d) Accessing Class Attributes <br>\n",
    " &nbsp;&nbsp;&nbsp;&nbsp; e) Changing Class Attributes <br>\n",
    " &nbsp;&nbsp;&nbsp;&nbsp; f) In-Class Exercise #2 - Add a color and wheels attribute to your 'Car' class <br>\n",
    "5) <b>Class Methods</b> <br>\n",
    " &nbsp;&nbsp;&nbsp;&nbsp; a) Creating <br>\n",
    " &nbsp;&nbsp;&nbsp;&nbsp; b) Calling <br>\n",
    " &nbsp;&nbsp;&nbsp;&nbsp; c) Modifying an Attribute's Value Through a Method <br>\n",
    " &nbsp;&nbsp;&nbsp;&nbsp; d) Incrementing an Attribute's Value Through a Method <br>\n",
    " &nbsp;&nbsp;&nbsp;&nbsp; e) In-Class Exercise #3 - Add a method that prints the cars color and wheel number, then call them <br>\n",
    "6) <b>Inheritance</b> <br>\n",
    " &nbsp;&nbsp;&nbsp;&nbsp; a) Syntax for Inheriting from a Parent Class <br>\n",
    " &nbsp;&nbsp;&nbsp;&nbsp; b) The \\__init\\__() Method for a Child Class (super()) <br>\n",
    " &nbsp;&nbsp;&nbsp;&nbsp; c) Defining Attributes and Methods for the Child Class <br>\n",
    " &nbsp;&nbsp;&nbsp;&nbsp; d) Method Overriding <br>\n",
    " &nbsp;&nbsp;&nbsp;&nbsp; e) In-Class Exercise #4 - Create a class 'Ford' that inherits from 'Car' class and initialize it as a Blue Ford Explorer with 4 wheels using the super() method <br>\n",
    "7) <b>Exercises</b> <br>\n",
    " &nbsp;&nbsp;&nbsp;&nbsp; a) Exercise #1 - Turn the shopping cart program from yesterday into an object-oriented program <br>"
   ]
  },
  {
   "cell_type": "markdown",
   "metadata": {},
   "source": [
    "## Creating a Class (Initializing/Declaring)\n",
    "<p>When creating a class, function, or even a variable you are initializing that object. Initializing and Declaring occur at the same time in Python, whereas in lower level languages you have to declare an object before initializing it. This is the first step in the process of using a class.</p>"
   ]
  },
  {
   "cell_type": "code",
   "execution_count": 1,
   "metadata": {},
   "outputs": [],
   "source": [
    "class Car():\n",
    "    wheels = 4\n",
    "    color = 'blue'\n",
    "\n"
   ]
  },
  {
   "cell_type": "markdown",
   "metadata": {},
   "source": [
    "## Using a Class (Instantiating)\n",
    "<p>The process of creating a class is called <i>Instantiating</i>. Each time you create a variable of that type of class, it is referred to as an <i>Instance</i> of that class. This is the second step in the process of using a class.</p>"
   ]
  },
  {
   "cell_type": "markdown",
   "metadata": {},
   "source": [
    "##### Creating One Instance"
   ]
  },
  {
   "cell_type": "code",
   "execution_count": 3,
   "metadata": {},
   "outputs": [
    {
     "name": "stdout",
     "output_type": "stream",
     "text": [
      "4\n"
     ]
    }
   ],
   "source": [
    "# class Car():\n",
    "#     wheels = 4\n",
    "#     color = 'blue'\n",
    "ford = Car()\n",
    "print(ford.wheels)"
   ]
  },
  {
   "cell_type": "markdown",
   "metadata": {},
   "source": [
    "##### Creating Multiple Instances"
   ]
  },
  {
   "cell_type": "code",
   "execution_count": 6,
   "metadata": {},
   "outputs": [
    {
     "name": "stdout",
     "output_type": "stream",
     "text": [
      "blue\n"
     ]
    }
   ],
   "source": [
    "nissan = Car()\n",
    "chevy = Car()\n",
    "print(nissan.color)"
   ]
  },
  {
   "cell_type": "markdown",
   "metadata": {},
   "source": [
    "##### In-Class Exercise #1 - Create a Class 'Car' and Instantiate three different makes of cars"
   ]
  },
  {
   "cell_type": "code",
   "execution_count": 10,
   "metadata": {},
   "outputs": [
    {
     "ename": "NameError",
     "evalue": "name 'white' is not defined",
     "output_type": "error",
     "traceback": [
      "\u001b[1;31m---------------------------------------------------------------------------\u001b[0m",
      "\u001b[1;31mNameError\u001b[0m                                 Traceback (most recent call last)",
      "\u001b[1;32mc:\\Users\\Alicia\\Documents\\Coding Temple\\week2\\day4\\Thursday_Blank_Thieves.ipynb Cell 11\u001b[0m line \u001b[0;36m1\n\u001b[1;32m----> <a href='vscode-notebook-cell:/c%3A/Users/Alicia/Documents/Coding%20Temple/week2/day4/Thursday_Blank_Thieves.ipynb#X13sZmlsZQ%3D%3D?line=0'>1</a>\u001b[0m \u001b[39mclass\u001b[39;49;00m \u001b[39mCar\u001b[39;49;00m(): \n\u001b[0;32m      <a href='vscode-notebook-cell:/c%3A/Users/Alicia/Documents/Coding%20Temple/week2/day4/Thursday_Blank_Thieves.ipynb#X13sZmlsZQ%3D%3D?line=1'>2</a>\u001b[0m     tires \u001b[39m=\u001b[39;49m \u001b[39m4\u001b[39;49m\n\u001b[0;32m      <a href='vscode-notebook-cell:/c%3A/Users/Alicia/Documents/Coding%20Temple/week2/day4/Thursday_Blank_Thieves.ipynb#X13sZmlsZQ%3D%3D?line=2'>3</a>\u001b[0m     color \u001b[39m=\u001b[39;49m white\n",
      "\u001b[1;32mc:\\Users\\Alicia\\Documents\\Coding Temple\\week2\\day4\\Thursday_Blank_Thieves.ipynb Cell 11\u001b[0m line \u001b[0;36m3\n\u001b[0;32m      <a href='vscode-notebook-cell:/c%3A/Users/Alicia/Documents/Coding%20Temple/week2/day4/Thursday_Blank_Thieves.ipynb#X13sZmlsZQ%3D%3D?line=0'>1</a>\u001b[0m \u001b[39mclass\u001b[39;00m \u001b[39mCar\u001b[39;00m(): \n\u001b[0;32m      <a href='vscode-notebook-cell:/c%3A/Users/Alicia/Documents/Coding%20Temple/week2/day4/Thursday_Blank_Thieves.ipynb#X13sZmlsZQ%3D%3D?line=1'>2</a>\u001b[0m     tires \u001b[39m=\u001b[39m \u001b[39m4\u001b[39m\n\u001b[1;32m----> <a href='vscode-notebook-cell:/c%3A/Users/Alicia/Documents/Coding%20Temple/week2/day4/Thursday_Blank_Thieves.ipynb#X13sZmlsZQ%3D%3D?line=2'>3</a>\u001b[0m     color \u001b[39m=\u001b[39m white\n\u001b[0;32m      <a href='vscode-notebook-cell:/c%3A/Users/Alicia/Documents/Coding%20Temple/week2/day4/Thursday_Blank_Thieves.ipynb#X13sZmlsZQ%3D%3D?line=3'>4</a>\u001b[0m     \u001b[39mtype\u001b[39m \u001b[39m=\u001b[39m v6\n\u001b[0;32m      <a href='vscode-notebook-cell:/c%3A/Users/Alicia/Documents/Coding%20Temple/week2/day4/Thursday_Blank_Thieves.ipynb#X13sZmlsZQ%3D%3D?line=5'>6</a>\u001b[0m     audi \u001b[39m=\u001b[39m Car(tires)\n",
      "\u001b[1;31mNameError\u001b[0m: name 'white' is not defined"
     ]
    }
   ],
   "source": [
    "class Car(): \n",
    "    tires = 4\n",
    "    color = white\n",
    "    type = sedan\n",
    "\n",
    "    audi = Car(tires)\n",
    "    chevy = Car(color)\n",
    "    beetle = Car(type)\n",
    "\n",
    "    print(audi)\n",
    "    print(chevy)\n",
    "    print(beetle)\n"
   ]
  },
  {
   "cell_type": "markdown",
   "metadata": {},
   "source": [
    "## The \\__init\\__() Method <br>\n",
    "<p>This method is used in almost every created class, and called only once upon the creation of the class instance. This method will initialize all variables needed for the object.</p>"
   ]
  },
  {
   "cell_type": "code",
   "execution_count": 15,
   "metadata": {},
   "outputs": [
    {
     "name": "stdout",
     "output_type": "stream",
     "text": [
      "Philidelphia\n"
     ]
    }
   ],
   "source": [
    "class NflTeam():\n",
    "    def __init__(self, city, name): #self does not need to be worried about however, city and name, the constructer needs these two arguments to create a class\n",
    "        self.city = city #instance properties \n",
    "        self.name = name #self placement can be used with any other variable, but self is a standard\n",
    "\n",
    "eagles = NflTeam('Philidelphia', 'Eagles')\n",
    "print(eagles.city)"
   ]
  },
  {
   "cell_type": "markdown",
   "metadata": {},
   "source": [
    "##### The 'self' Attribute <br>\n",
    "<p>This attribute is required to keep track of specific instance's attributes. Without the self attribute, the program would not know how to reference or keep track of an instance's attributes.</p>"
   ]
  },
  {
   "cell_type": "code",
   "execution_count": 16,
   "metadata": {},
   "outputs": [],
   "source": [
    "# see above\n"
   ]
  },
  {
   "cell_type": "markdown",
   "metadata": {},
   "source": [
    "## Class Attributes <br>\n",
    "<p>While variables are inside of a class, they are referred to as attributes and not variables. When someone says 'attribute' you know they're speaking about a class. Attributes can be initialized through the init method, or outside of it.</p>"
   ]
  },
  {
   "cell_type": "markdown",
   "metadata": {},
   "source": [
    "##### Initializing Attributes"
   ]
  },
  {
   "cell_type": "code",
   "execution_count": 17,
   "metadata": {},
   "outputs": [],
   "source": [
    "# see above"
   ]
  },
  {
   "cell_type": "markdown",
   "metadata": {},
   "source": [
    "##### Accessing Class Attributes"
   ]
  },
  {
   "cell_type": "code",
   "execution_count": 18,
   "metadata": {
    "scrolled": true
   },
   "outputs": [],
   "source": [
    "# See Above"
   ]
  },
  {
   "cell_type": "markdown",
   "metadata": {},
   "source": [
    "##### Setting Defaults for Attributes"
   ]
  },
  {
   "cell_type": "code",
   "execution_count": 30,
   "metadata": {},
   "outputs": [
    {
     "name": "stdout",
     "output_type": "stream",
     "text": [
      "<__main__.NbaTeam object at 0x000001BD35CD4490>\n"
     ]
    }
   ],
   "source": [
    "class NbaTeam():\n",
    "    def __init__(self, city, name, year=2023):\n",
    "        self.city = city \n",
    "        self.name = name        \n",
    "        self.year = year\n",
    "heat = NbaTeam('miami', 'heat', 2019)\n",
    "heat.year\n",
    "\n",
    "#changing on instance property\n",
    "heat.city = 'San Diego'\n",
    "\n"
   ]
  },
  {
   "attachments": {},
   "cell_type": "markdown",
   "metadata": {},
   "source": [
    "##### Changing Instance Attributes <br>\n",
    "<p>Keep in mind there are global class attributes and then there are attributes only available to each class instance which won't effect other classes.</p>"
   ]
  },
  {
   "cell_type": "code",
   "execution_count": 19,
   "metadata": {},
   "outputs": [],
   "source": [
    "# see above"
   ]
  },
  {
   "cell_type": "markdown",
   "metadata": {},
   "source": [
    "##### In-Class Exercise #2 - Add a doors and seats attribute to your 'Car' class then print out two different instances with different doors and seats"
   ]
  },
  {
   "cell_type": "code",
   "execution_count": 31,
   "metadata": {},
   "outputs": [
    {
     "name": "stdout",
     "output_type": "stream",
     "text": [
      "4\n",
      "7\n"
     ]
    }
   ],
   "source": [
    "class Car(): \n",
    "    def __init__(self, doors, seats): \n",
    "        self.doors = doors \n",
    "        self.seats = seats\n",
    "car = Car(4,7)\n",
    "\n",
    "print(car.doors)\n",
    "print(car.seats)\n",
    "\n",
    "\n"
   ]
  },
  {
   "cell_type": "markdown",
   "metadata": {},
   "source": [
    "## Class Methods <br>\n",
    "<p>While inside of a class, functions are referred to as 'methods'. If you hear someone mention methods, they're speaking about classes. Methods are essentially functions, but only callable on the instances of a class.</p>"
   ]
  },
  {
   "cell_type": "markdown",
   "metadata": {},
   "source": [
    "##### Creating"
   ]
  },
  {
   "cell_type": "code",
   "execution_count": 35,
   "metadata": {},
   "outputs": [
    {
     "name": "stdout",
     "output_type": "stream",
     "text": [
      "Michael Jordan  was added to your roster!\n",
      "Your current roster is {'Michael Jordan ': 23}\n",
      "Kobe Bryant was added to your roster!\n",
      "Your current roster is {'Michael Jordan ': 23, 'Kobe Bryant': 24}\n"
     ]
    },
    {
     "ename": "AttributeError",
     "evalue": "'Roster' object has no attribute 'depth_chat'",
     "output_type": "error",
     "traceback": [
      "\u001b[1;31m---------------------------------------------------------------------------\u001b[0m",
      "\u001b[1;31mAttributeError\u001b[0m                            Traceback (most recent call last)",
      "\u001b[1;32mc:\\Users\\Alicia\\Documents\\Coding Temple\\week2\\day4\\Thursday_Blank_Thieves.ipynb Cell 29\u001b[0m line \u001b[0;36m3\n\u001b[0;32m     <a href='vscode-notebook-cell:/c%3A/Users/Alicia/Documents/Coding%20Temple/week2/day4/Thursday_Blank_Thieves.ipynb#X40sZmlsZQ%3D%3D?line=33'>34</a>\u001b[0m thievesRoster\u001b[39m.\u001b[39maddPlayer()\n\u001b[0;32m     <a href='vscode-notebook-cell:/c%3A/Users/Alicia/Documents/Coding%20Temple/week2/day4/Thursday_Blank_Thieves.ipynb#X40sZmlsZQ%3D%3D?line=34'>35</a>\u001b[0m thievesRoster\u001b[39m.\u001b[39maddPlayer()\n\u001b[1;32m---> <a href='vscode-notebook-cell:/c%3A/Users/Alicia/Documents/Coding%20Temple/week2/day4/Thursday_Blank_Thieves.ipynb#X40sZmlsZQ%3D%3D?line=35'>36</a>\u001b[0m thievesRoster\u001b[39m.\u001b[39;49mremovePlayer()\n\u001b[0;32m     <a href='vscode-notebook-cell:/c%3A/Users/Alicia/Documents/Coding%20Temple/week2/day4/Thursday_Blank_Thieves.ipynb#X40sZmlsZQ%3D%3D?line=38'>39</a>\u001b[0m \u001b[39m#remove player method \u001b[39;00m\n",
      "\u001b[1;32mc:\\Users\\Alicia\\Documents\\Coding Temple\\week2\\day4\\Thursday_Blank_Thieves.ipynb Cell 29\u001b[0m line \u001b[0;36m2\n\u001b[0;32m     <a href='vscode-notebook-cell:/c%3A/Users/Alicia/Documents/Coding%20Temple/week2/day4/Thursday_Blank_Thieves.ipynb#X40sZmlsZQ%3D%3D?line=17'>18</a>\u001b[0m \u001b[39mdef\u001b[39;00m \u001b[39mremovePlayer\u001b[39m(\u001b[39mself\u001b[39m):\n\u001b[0;32m     <a href='vscode-notebook-cell:/c%3A/Users/Alicia/Documents/Coding%20Temple/week2/day4/Thursday_Blank_Thieves.ipynb#X40sZmlsZQ%3D%3D?line=18'>19</a>\u001b[0m     name \u001b[39m=\u001b[39m \u001b[39minput\u001b[39m(\u001b[39m'\u001b[39m\u001b[39mWhat player would you like to remove from your roster?\u001b[39m\u001b[39m'\u001b[39m)\n\u001b[1;32m---> <a href='vscode-notebook-cell:/c%3A/Users/Alicia/Documents/Coding%20Temple/week2/day4/Thursday_Blank_Thieves.ipynb#X40sZmlsZQ%3D%3D?line=19'>20</a>\u001b[0m     \u001b[39mif\u001b[39;00m (name \u001b[39min\u001b[39;00m \u001b[39mself\u001b[39;49m\u001b[39m.\u001b[39;49mdepth_chat): \n\u001b[0;32m     <a href='vscode-notebook-cell:/c%3A/Users/Alicia/Documents/Coding%20Temple/week2/day4/Thursday_Blank_Thieves.ipynb#X40sZmlsZQ%3D%3D?line=20'>21</a>\u001b[0m         \u001b[39mdel\u001b[39;00m \u001b[39mself\u001b[39m\u001b[39m.\u001b[39mdepth_chart[name]\n\u001b[0;32m     <a href='vscode-notebook-cell:/c%3A/Users/Alicia/Documents/Coding%20Temple/week2/day4/Thursday_Blank_Thieves.ipynb#X40sZmlsZQ%3D%3D?line=21'>22</a>\u001b[0m         \u001b[39mself\u001b[39m\u001b[39m.\u001b[39mnum_of_players \u001b[39m-\u001b[39m\u001b[39m=\u001b[39m \u001b[39m1\u001b[39m\n",
      "\u001b[1;31mAttributeError\u001b[0m: 'Roster' object has no attribute 'depth_chat'"
     ]
    }
   ],
   "source": [
    "\n",
    "#roster set here can be eddited\n",
    "\n",
    "class Roster():\n",
    "    def __init__(self):\n",
    "        self.depth_chart = {}\n",
    "        self.num_of_players = 0\n",
    "\n",
    "    #creating first method\n",
    "    def addPlayer(self): #anytime that we create methods, we must have self as the first parameter\n",
    "        name = input('What player would you like to add to the roster?')\n",
    "        jersey_num = int(input(f'What number will {name} have?'))\n",
    "        self.depth_chart[name] = jersey_num\n",
    "        self.num_of_players += 1\n",
    "        print(f'{name} was added to your roster!')\n",
    "        print(f'Your current roster is {self.depth_chart}')\n",
    "\n",
    "    #remove player method \n",
    "    def removePlayer(self):\n",
    "        name = input('What player would you like to remove from your roster?')\n",
    "        if (name in self.depth_chat): \n",
    "            del self.depth_chart[name]\n",
    "            self.num_of_players -= 1\n",
    "            print(f'{name} has been removed from your roster!')\n",
    "            print(f'Your current roster is {self.depth_chart}.')\n",
    "        else: \n",
    "            print(f'{name} is not on your team.')\n",
    "\n",
    "    def showPlayers(self):\n",
    "        for key,value in self.depth_chart.items(): \n",
    "            print\n",
    "            print('----- Current Roster -----')\n",
    "            for key,value in self.depth_chart.items():\n",
    "                print(key,value)\n",
    "\n",
    "    #def runner method\n",
    "    def runner(self:)\n",
    "        while True: \n",
    "            choice = input('What would you like to do? (add, remove, show, or quit'))\n",
    "            if (choice == 'quit'): \n",
    "                break\n",
    "            elif (choice == 'add'): \n",
    "                self.addPlayer()\n",
    "            elif (choice == 'remove'): \n",
    "                self.removePlayer()\n",
    "            elif(choice == 'show'): \n",
    "                self.showPlayer()\n",
    "            else: \n",
    "                print('Invalid input, please try again...')\n",
    "\n",
    "theivesRoster = Roster()\n",
    "thievesRoster.runner()\n"
   ]
  },
  {
   "cell_type": "markdown",
   "metadata": {},
   "source": [
    "##### Calling"
   ]
  },
  {
   "cell_type": "code",
   "execution_count": 20,
   "metadata": {},
   "outputs": [],
   "source": [
    "# See Above"
   ]
  },
  {
   "cell_type": "markdown",
   "metadata": {},
   "source": [
    "##### Modifying an Attribute's Value Through a Method"
   ]
  },
  {
   "cell_type": "code",
   "execution_count": 21,
   "metadata": {},
   "outputs": [],
   "source": [
    "# see above\n"
   ]
  },
  {
   "cell_type": "markdown",
   "metadata": {},
   "source": [
    "##### Incrementing an Attribute's Value Through a Method"
   ]
  },
  {
   "cell_type": "code",
   "execution_count": 22,
   "metadata": {},
   "outputs": [],
   "source": [
    "# see above\n"
   ]
  },
  {
   "cell_type": "markdown",
   "metadata": {},
   "source": [
    "## Inheritance <br>\n",
    "<p>You can create a child-parent relationship between two classes by using inheritance. What this allows you to do is have overriding methods, but also inherit traits from the parent class. Think of it as an actual parent and child, the child will inherit the parent's genes, as will the classes in OOP</p>"
   ]
  },
  {
   "cell_type": "markdown",
   "metadata": {},
   "source": [
    "##### Syntax for Inheriting from a Parent Class"
   ]
  },
  {
   "cell_type": "code",
   "execution_count": null,
   "metadata": {},
   "outputs": [],
   "source": []
  },
  {
   "cell_type": "markdown",
   "metadata": {},
   "source": [
    "##### The \\__init\\__() Method for a Child Class - super()"
   ]
  },
  {
   "cell_type": "code",
   "execution_count": 23,
   "metadata": {
    "scrolled": true
   },
   "outputs": [],
   "source": [
    "# see above"
   ]
  },
  {
   "cell_type": "markdown",
   "metadata": {},
   "source": [
    "##### Defining Attributes and Methods for the Child Class"
   ]
  },
  {
   "cell_type": "code",
   "execution_count": 24,
   "metadata": {},
   "outputs": [],
   "source": [
    "# See Above"
   ]
  },
  {
   "cell_type": "markdown",
   "metadata": {},
   "source": [
    "# Exercises"
   ]
  },
  {
   "cell_type": "markdown",
   "metadata": {},
   "source": [
    "### Exercise 1 - Turn the shopping cart program from yesterday into an object-oriented program\n",
    "\n",
    "The comments in the cell below are there as a guide for thinking about the problem. However, if you feel a different way is best for you and your own thought process, please do what feels best for you by all means."
   ]
  },
  {
   "cell_type": "code",
   "execution_count": 19,
   "metadata": {},
   "outputs": [],
   "source": [
    "# Create a class called cart that retains items and has methods to add, remove, and show\n",
    "# \n",
    "\n",
    "class Cart():\n",
    "    def __init__(self): \n",
    "        self.partylist = {}\n",
    "        self.quantity = 0\n",
    "    \n",
    "    def addPartylist(self): \n",
    "        item_name = input(\"What are you going to bring to the party?\")\n",
    "        amount = int(input(\"How many of each are you going to bring?\"))\n",
    "        self.partylist [item_name] = amount\n",
    "        self.quantity += amount\n",
    "        print(f'{item_name} was added to your cart!')\n",
    "        print(f'The current party list is {self.partylist}')\n",
    "    \n",
    "    def removePartylist(self):\n",
    "        item_name = input(\"What would you like to delete from the cart?\")\n",
    "        if item_name in self.partylist:\n",
    "            del self.partylist[item_name]\n",
    "            self.partylist -= 1\n",
    "            print(f'{item_name} has been removed from the cart.')\n",
    "\n",
    "        else: \n",
    "            print (f'{item_name} is no longer in the cart.')\n",
    "\n",
    "\n"
   ]
  },
  {
   "cell_type": "markdown",
   "metadata": {},
   "source": [
    "### Exercise 2 - Write a Python class which has two methods get_String and print_String. get_String accept a string from the user and print_String print the string in upper case"
   ]
  },
  {
   "cell_type": "code",
   "execution_count": 17,
   "metadata": {},
   "outputs": [],
   "source": [
    "class schoolSupplies: \n",
    "    def __init__(self): \n",
    "        self.materials = {}\n",
    "        self.itemlist = {}\n",
    "\n",
    "    def get_materials(self):\n",
    "        itemname = input(\"What do you need for school?\")\n",
    "        itemcolor = input(\"What color would you like?\")\n",
    "        self.materials[itemname] = itemcolor\n",
    "        print(f'{itemname} was added to the School Supply List.')\n",
    "\n",
    "    def remove_materials(self):\n",
    "        itemname = input(\"What do you no longer want to have on the School Supply List?\")\n",
    "        if itemname in self.materials: \n",
    "            del self.materials[itemname]\n",
    "            print (f'{itemname} has been removed off of the School Supply List.')\n",
    "\n",
    "        else: \n",
    "            print (\"Invalid, please type a valid item.\")\n",
    "\n",
    "theFinalList = schoolSupplies()\n"
   ]
  }
 ],
 "metadata": {
  "kernelspec": {
   "display_name": "Python 3",
   "language": "python",
   "name": "python3"
  },
  "language_info": {
   "codemirror_mode": {
    "name": "ipython",
    "version": 3
   },
   "file_extension": ".py",
   "mimetype": "text/x-python",
   "name": "python",
   "nbconvert_exporter": "python",
   "pygments_lexer": "ipython3",
   "version": "3.11.5"
  },
  "vscode": {
   "interpreter": {
    "hash": "aa82987a71ca0339a52998cd22613b0c002bda8349fa32a0cb67ceec3936a2bf"
   }
  }
 },
 "nbformat": 4,
 "nbformat_minor": 2
}
